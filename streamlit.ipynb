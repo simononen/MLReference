{
 "metadata": {
  "language_info": {
   "codemirror_mode": {
    "name": "ipython",
    "version": 3
   },
   "file_extension": ".py",
   "mimetype": "text/x-python",
   "name": "python",
   "nbconvert_exporter": "python",
   "pygments_lexer": "ipython3",
   "version": "3.7.9-final"
  },
  "orig_nbformat": 2,
  "kernelspec": {
   "name": "python3",
   "display_name": "Python 3",
   "language": "python"
  }
 },
 "nbformat": 4,
 "nbformat_minor": 2,
 "cells": [
  {
   "source": [
    "# Streamlit"
   ],
   "cell_type": "markdown",
   "metadata": {}
  },
  {
   "cell_type": "code",
   "execution_count": 4,
   "metadata": {},
   "outputs": [],
   "source": [
    "import pandas as pd\n",
    "\n",
    "import statsmodels.api as sm"
   ]
  },
  {
   "cell_type": "code",
   "execution_count": 5,
   "metadata": {},
   "outputs": [],
   "source": [
    "df = sm.datasets.fair.load_pandas().data"
   ]
  },
  {
   "cell_type": "code",
   "execution_count": 6,
   "metadata": {},
   "outputs": [
    {
     "output_type": "execute_result",
     "data": {
      "text/plain": [
       "   rate_marriage   age  yrs_married  children  religious  educ  occupation  \\\n",
       "0            3.0  32.0          9.0       3.0        3.0  17.0         2.0   \n",
       "1            3.0  27.0         13.0       3.0        1.0  14.0         3.0   \n",
       "2            4.0  22.0          2.5       0.0        1.0  16.0         3.0   \n",
       "3            4.0  37.0         16.5       4.0        3.0  16.0         5.0   \n",
       "4            5.0  27.0          9.0       1.0        1.0  14.0         3.0   \n",
       "\n",
       "   occupation_husb   affairs  \n",
       "0              5.0  0.111111  \n",
       "1              4.0  3.230769  \n",
       "2              5.0  1.400000  \n",
       "3              5.0  0.727273  \n",
       "4              4.0  4.666666  "
      ],
      "text/html": "<div>\n<style scoped>\n    .dataframe tbody tr th:only-of-type {\n        vertical-align: middle;\n    }\n\n    .dataframe tbody tr th {\n        vertical-align: top;\n    }\n\n    .dataframe thead th {\n        text-align: right;\n    }\n</style>\n<table border=\"1\" class=\"dataframe\">\n  <thead>\n    <tr style=\"text-align: right;\">\n      <th></th>\n      <th>rate_marriage</th>\n      <th>age</th>\n      <th>yrs_married</th>\n      <th>children</th>\n      <th>religious</th>\n      <th>educ</th>\n      <th>occupation</th>\n      <th>occupation_husb</th>\n      <th>affairs</th>\n    </tr>\n  </thead>\n  <tbody>\n    <tr>\n      <th>0</th>\n      <td>3.0</td>\n      <td>32.0</td>\n      <td>9.0</td>\n      <td>3.0</td>\n      <td>3.0</td>\n      <td>17.0</td>\n      <td>2.0</td>\n      <td>5.0</td>\n      <td>0.111111</td>\n    </tr>\n    <tr>\n      <th>1</th>\n      <td>3.0</td>\n      <td>27.0</td>\n      <td>13.0</td>\n      <td>3.0</td>\n      <td>1.0</td>\n      <td>14.0</td>\n      <td>3.0</td>\n      <td>4.0</td>\n      <td>3.230769</td>\n    </tr>\n    <tr>\n      <th>2</th>\n      <td>4.0</td>\n      <td>22.0</td>\n      <td>2.5</td>\n      <td>0.0</td>\n      <td>1.0</td>\n      <td>16.0</td>\n      <td>3.0</td>\n      <td>5.0</td>\n      <td>1.400000</td>\n    </tr>\n    <tr>\n      <th>3</th>\n      <td>4.0</td>\n      <td>37.0</td>\n      <td>16.5</td>\n      <td>4.0</td>\n      <td>3.0</td>\n      <td>16.0</td>\n      <td>5.0</td>\n      <td>5.0</td>\n      <td>0.727273</td>\n    </tr>\n    <tr>\n      <th>4</th>\n      <td>5.0</td>\n      <td>27.0</td>\n      <td>9.0</td>\n      <td>1.0</td>\n      <td>1.0</td>\n      <td>14.0</td>\n      <td>3.0</td>\n      <td>4.0</td>\n      <td>4.666666</td>\n    </tr>\n  </tbody>\n</table>\n</div>"
     },
     "metadata": {},
     "execution_count": 6
    }
   ],
   "source": [
    "df.head()"
   ]
  },
  {
   "cell_type": "code",
   "execution_count": null,
   "metadata": {},
   "outputs": [],
   "source": []
  }
 ]
}