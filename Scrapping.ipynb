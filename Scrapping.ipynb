{
 "metadata": {
  "language_info": {
   "codemirror_mode": {
    "name": "ipython",
    "version": 3
   },
   "file_extension": ".py",
   "mimetype": "text/x-python",
   "name": "python",
   "nbconvert_exporter": "python",
   "pygments_lexer": "ipython3",
   "version": "3.8.5-final"
  },
  "orig_nbformat": 2,
  "kernelspec": {
   "name": "python3",
   "display_name": "Python 3",
   "language": "python"
  }
 },
 "nbformat": 4,
 "nbformat_minor": 2,
 "cells": [
  {
   "source": [
    "# Scrapping"
   ],
   "cell_type": "markdown",
   "metadata": {}
  },
  {
   "source": [
    "### Scrapping health data"
   ],
   "cell_type": "markdown",
   "metadata": {}
  },
  {
   "cell_type": "code",
   "execution_count": 278,
   "metadata": {},
   "outputs": [],
   "source": [
    "from bs4 import BeautifulSoup\n",
    "from time import sleep\n",
    "\n",
    "import pandas as pd\n",
    "import requests\n",
    "import json\n",
    "import re"
   ]
  },
  {
   "cell_type": "code",
   "execution_count": 279,
   "metadata": {},
   "outputs": [],
   "source": [
    "def remove_html_tags(data):\n",
    "    p = re.compile(r'<.*?>')\n",
    "    return p.sub('', data)"
   ]
  },
  {
   "cell_type": "code",
   "execution_count": 280,
   "metadata": {},
   "outputs": [
    {
     "output_type": "stream",
     "name": "stdout",
     "text": [
      "Data Retrieved from page  1\n",
      "Data Retrieved from page  2\n",
      "Data Retrieved from page  3\n",
      "Data Retrieved from page  4\n",
      "Data Retrieved from page  5\n",
      "Data Retrieved from page  6\n",
      "Data Retrieved from page  7\n",
      "Data Retrieved from page  8\n",
      "Data Retrieved from page  9\n",
      "1560\n"
     ]
    }
   ],
   "source": [
    "pagination_max_value = 10\n",
    "\n",
    "\n",
    "for pagination_value in range(1, pagination_max_value):\n",
    "    end_point = f'https://www.ehealthlicense.go.ug/index.php/search/cadre?LicenseSearch%5BissuerId%5D=&LicenseSearch%5Bq%5D=&page={pagination_value}'\n",
    "\n",
    "    print('Data Retrieved from page ', pagination_value)\n",
    "\n",
    "    res = requests.get(url)\n",
    "    soup = BeautifulSoup(res.text, 'html.parser')\n",
    "    all_headers = soup.find_all('h5')\n",
    "    # sleep(2000)\n",
    "\n",
    "\n",
    "for item in all_headers:\n",
    "    item = remove_html_tags(f\"{item}\")\n",
    "    header_list.append(item)\n",
    "\n",
    "print(len(header_list))\n",
    "\n",
    "# print(json.dumps(header_list))\n"
   ]
  },
  {
   "source": [
    "#### Loop through the list and retrieve the data to respective lists"
   ],
   "cell_type": "markdown",
   "metadata": {}
  },
  {
   "cell_type": "code",
   "execution_count": 272,
   "metadata": {},
   "outputs": [],
   "source": [
    "\n",
    "\n",
    "names = []\n",
    "councils = []\n",
    "registration_no = []\n",
    "registration_date = []\n",
    "license_no = []\n",
    "license_expiry_date = []\n",
    "\n",
    "counter = 0\n",
    "\n",
    "for i in range(len(header_list)):\n",
    "    # print(header_list[i])\n",
    "    if 'Name:' in header_list[i]:\n",
    "        names.append(header_list[i][6:])\n",
    "    if 'Council:' in header_list[i]:\n",
    "        councils.append(header_list[i][9:])\n",
    "    if 'Registration No :' in header_list[i]:\n",
    "        registration_no.append(header_list[i][18:])\n",
    "    if 'Registration Date :' in header_list[i]:\n",
    "        registration_date.append(header_list[i][20:])\n",
    "    if 'License Number:' in header_list[i]:\n",
    "        license_no.append(header_list[i][16:])\n",
    "    if 'License Expiry Date:' in header_list[i]:\n",
    "        license_expiry_date.append(header_list[i][21:])\n",
    "\n",
    "    counter += 1;\n",
    "    if(counter == 5):\n",
    "        # print('============')\n",
    "        counter = 0\n",
    "\n",
    "    health_prof[i] = [names, councils, registration_no, license_no]\n",
    "\n",
    "# health_prof\n",
    "\n",
    "df_names = pd.DataFrame.from_dict(names, orient='columns')\n",
    "df_councils = pd.DataFrame.from_dict(councils, orient='columns')\n",
    "df_registration_no = pd.DataFrame.from_dict(registration_no, orient='columns')\n",
    "df_registration_date = pd.DataFrame.from_dict(registration_date, orient='columns')\n",
    "df_license_no = pd.DataFrame.from_dict(license_no, orient='columns')\n",
    "df_license_expiry_date = pd.DataFrame.from_dict(license_expiry_date, orient='columns')\n"
   ]
  },
  {
   "cell_type": "code",
   "execution_count": 273,
   "metadata": {},
   "outputs": [
    {
     "output_type": "execute_result",
     "data": {
      "text/plain": [
       "            0_x_x                                 0_y_x  0_x_y       0_y_y  \\\n",
       "175  LILIAN AANYU  Uganda Nurses &amp; Midwives Council   1617  2016-08-29   \n",
       "176   SARAH AANYU  Uganda Nurses &amp; Midwives Council  19358  2016-09-26   \n",
       "177   NIGHT AANYU  Uganda Nurses &amp; Midwives Council  15969  2017-04-03   \n",
       "178  MERABU AANYU  Uganda Nurses &amp; Midwives Council  16347  2017-05-22   \n",
       "179   SARAH AANYU  Uganda Nurses &amp; Midwives Council  17417  2017-11-06   \n",
       "\n",
       "               0_x         0_y  \n",
       "175   201954140751  2019-12-31  \n",
       "176  2019119240752  2019-12-31  \n",
       "177  2019119440753  2020-12-31  \n",
       "178   201951940753  2020-12-31  \n",
       "179  2019149340754  2020-12-31  "
      ],
      "text/html": "<div>\n<style scoped>\n    .dataframe tbody tr th:only-of-type {\n        vertical-align: middle;\n    }\n\n    .dataframe tbody tr th {\n        vertical-align: top;\n    }\n\n    .dataframe thead th {\n        text-align: right;\n    }\n</style>\n<table border=\"1\" class=\"dataframe\">\n  <thead>\n    <tr style=\"text-align: right;\">\n      <th></th>\n      <th>0_x_x</th>\n      <th>0_y_x</th>\n      <th>0_x_y</th>\n      <th>0_y_y</th>\n      <th>0_x</th>\n      <th>0_y</th>\n    </tr>\n  </thead>\n  <tbody>\n    <tr>\n      <th>175</th>\n      <td>LILIAN AANYU</td>\n      <td>Uganda Nurses &amp;amp; Midwives Council</td>\n      <td>1617</td>\n      <td>2016-08-29</td>\n      <td>201954140751</td>\n      <td>2019-12-31</td>\n    </tr>\n    <tr>\n      <th>176</th>\n      <td>SARAH AANYU</td>\n      <td>Uganda Nurses &amp;amp; Midwives Council</td>\n      <td>19358</td>\n      <td>2016-09-26</td>\n      <td>2019119240752</td>\n      <td>2019-12-31</td>\n    </tr>\n    <tr>\n      <th>177</th>\n      <td>NIGHT AANYU</td>\n      <td>Uganda Nurses &amp;amp; Midwives Council</td>\n      <td>15969</td>\n      <td>2017-04-03</td>\n      <td>2019119440753</td>\n      <td>2020-12-31</td>\n    </tr>\n    <tr>\n      <th>178</th>\n      <td>MERABU AANYU</td>\n      <td>Uganda Nurses &amp;amp; Midwives Council</td>\n      <td>16347</td>\n      <td>2017-05-22</td>\n      <td>201951940753</td>\n      <td>2020-12-31</td>\n    </tr>\n    <tr>\n      <th>179</th>\n      <td>SARAH AANYU</td>\n      <td>Uganda Nurses &amp;amp; Midwives Council</td>\n      <td>17417</td>\n      <td>2017-11-06</td>\n      <td>2019149340754</td>\n      <td>2020-12-31</td>\n    </tr>\n  </tbody>\n</table>\n</div>"
     },
     "metadata": {},
     "execution_count": 273
    }
   ],
   "source": [
    "\n",
    "df_merged_1 = pd.merge(df_names, df_councils, left_index=True, right_index=True)\n",
    "\n",
    "df_merged_2 = pd.merge(df_registration_no, df_registration_date, left_index=True, right_index=True)\n",
    "\n",
    "df_merged_3 = pd.merge(df_license_no, df_license_expiry_date, left_index=True, right_index=True)\n",
    "\n",
    "df_merged_4 = pd.merge(df_merged_1, df_merged_2, left_index=True, right_index=True)\n",
    "\n",
    "df_final_merge = pd.merge(df_merged_4, df_merged_3, left_index=True, right_index=True)\n",
    "\n",
    "df_final_merge.tail()"
   ]
  },
  {
   "cell_type": "code",
   "execution_count": null,
   "metadata": {},
   "outputs": [],
   "source": []
  },
  {
   "source": [
    "### Convert the data to csv"
   ],
   "cell_type": "markdown",
   "metadata": {}
  },
  {
   "cell_type": "code",
   "execution_count": 274,
   "metadata": {},
   "outputs": [],
   "source": [
    "\n",
    "df_final_merge.to_csv('health_p_df.csv')"
   ]
  },
  {
   "cell_type": "code",
   "execution_count": null,
   "metadata": {},
   "outputs": [],
   "source": []
  }
 ]
}