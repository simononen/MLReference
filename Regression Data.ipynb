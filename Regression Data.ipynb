{
 "metadata": {
  "language_info": {
   "codemirror_mode": {
    "name": "ipython",
    "version": 3
   },
   "file_extension": ".py",
   "mimetype": "text/x-python",
   "name": "python",
   "nbconvert_exporter": "python",
   "pygments_lexer": "ipython3",
   "version": "3.8.5-final"
  },
  "orig_nbformat": 2,
  "kernelspec": {
   "name": "python3",
   "display_name": "Python 3",
   "language": "python"
  }
 },
 "nbformat": 4,
 "nbformat_minor": 2,
 "cells": [
  {
   "source": [
    "## Regression Datasets"
   ],
   "cell_type": "markdown",
   "metadata": {}
  },
  {
   "source": [
    "### 1 Tips Data"
   ],
   "cell_type": "markdown",
   "metadata": {}
  },
  {
   "cell_type": "code",
   "execution_count": 8,
   "metadata": {},
   "outputs": [],
   "source": [
    "import numpy as np, pandas as pd, seaborn as sns"
   ]
  },
  {
   "cell_type": "code",
   "execution_count": 14,
   "metadata": {},
   "outputs": [
    {
     "output_type": "stream",
     "name": "stdout",
     "text": [
      "   total_bill   tip     sex smoker  day    time  size\n0       16.99  1.01  Female     No  Sun  Dinner     2\n1       10.34  1.66    Male     No  Sun  Dinner     3\n2       21.01  3.50    Male     No  Sun  Dinner     3\n3       23.68  3.31    Male     No  Sun  Dinner     2\n4       24.59  3.61  Female     No  Sun  Dinner     4 \n\n(244, 6) (244,)\n[[16.99 'Female' 'No' 'Sun' 'Dinner' 2]\n [10.34 'Male' 'No' 'Sun' 'Dinner' 3]\n [21.01 'Male' 'No' 'Sun' 'Dinner' 3]\n [23.68 'Male' 'No' 'Sun' 'Dinner' 2]\n [24.59 'Female' 'No' 'Sun' 'Dinner' 4]]\n-----------\n[1.01 1.66 3.5  3.31 3.61]\n"
     ]
    }
   ],
   "source": [
    "if __name__ == '__main__':\n",
    "    br = '\\n'\n",
    "    sns.set(color_codes=True)\n",
    "    tips = sns.load_dataset('tips')\n",
    "    print(tips.head(), br)\n",
    "    X = tips.drop(['tip'], axis=1).values\n",
    "    y = tips['tip'].values\n",
    "    print(X.shape, y.shape)\n",
    "    print(X[0:5])\n",
    "    print('-----------')\n",
    "    print(y[0:5])"
   ]
  },
  {
   "source": [
    "### Red and White Wine Data"
   ],
   "cell_type": "markdown",
   "metadata": {}
  },
  {
   "cell_type": "code",
   "execution_count": 15,
   "metadata": {},
   "outputs": [],
   "source": [
    "import pandas as pd\n",
    "from sklearn.ensemble import RandomForestRegressor"
   ]
  },
  {
   "cell_type": "code",
   "execution_count": null,
   "metadata": {},
   "outputs": [],
   "source": [
    "if __name__ == '__main__':\n",
    "    br = '\\n'\n",
    "    f = 'data/redwine.csv'\n",
    "    redwine = pd.read_csv(f)\n",
    "\n",
    "    X = redwine.drop(['quality'], axis=1)\n",
    "    y = redwine['quality']\n",
    "\n",
    "    print(X.shape)\n",
    "    print(y.shape, br)\n",
    "\n",
    "    features = list(X)\n",
    "    rfr = RandomForestRegressor(random_state=0, n_estimators=100)"
   ]
  }
 ]
}